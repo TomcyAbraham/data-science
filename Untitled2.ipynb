{
  "nbformat": 4,
  "nbformat_minor": 0,
  "metadata": {
    "colab": {
      "provenance": []
    },
    "kernelspec": {
      "name": "python3",
      "display_name": "Python 3"
    },
    "language_info": {
      "name": "python"
    }
  },
  "cells": [
    {
      "cell_type": "code",
      "execution_count": 10,
      "metadata": {
        "id": "ahWsHQdiW-n3",
        "colab": {
          "base_uri": "https://localhost:8080/"
        },
        "outputId": "cef913e1-c2ed-461d-f5cc-180348cb41c2"
      },
      "outputs": [
        {
          "output_type": "stream",
          "name": "stdout",
          "text": [
            "Enter the Radius of the circle3\n",
            "area of the circle is  28.26\n"
          ]
        }
      ],
      "source": [
        "# question 1\n",
        "r=int(input('Enter the Radius of the circle'))\n",
        "area=pi*r**2\n",
        "print('area of the circle is ',area)\n"
      ]
    },
    {
      "cell_type": "code",
      "source": [
        "#question 2\n",
        "\n",
        "a=input('enter your name')\n",
        "b=input('enter your roll no.')\n",
        "c=input('enter your mark')\n",
        "\n",
        "print('Name: ', a)\n",
        "print('Roll no.: ',b)\n",
        "print('Mark: ',c)\n",
        "\n"
      ],
      "metadata": {
        "colab": {
          "base_uri": "https://localhost:8080/"
        },
        "id": "wxRTYHr4Y-qC",
        "outputId": "28d6ab0f-b7a1-40a3-8d75-e2788caa70dc"
      },
      "execution_count": 15,
      "outputs": [
        {
          "output_type": "stream",
          "name": "stdout",
          "text": [
            "enter your nameanisha\n",
            "enter your roll no.21\n",
            "enter your mark78\n",
            "Name:  anisha\n",
            "Roll no.:  21\n",
            "Mark:  78\n"
          ]
        }
      ]
    },
    {
      "cell_type": "code",
      "source": [
        "# question 3\n",
        "\n",
        "lis=[2,5,6,33,22,1]\n",
        "print(max(lis),'is the largest no.')\n",
        "\n",
        "\n",
        "\n"
      ],
      "metadata": {
        "colab": {
          "base_uri": "https://localhost:8080/"
        },
        "id": "Q2fVJygx9iMc",
        "outputId": "6766873a-76dd-49f3-9ec3-3482a4a77f69"
      },
      "execution_count": 16,
      "outputs": [
        {
          "output_type": "stream",
          "name": "stdout",
          "text": [
            "33 is the largest no.\n"
          ]
        }
      ]
    },
    {
      "cell_type": "code",
      "source": [
        "# question 4\n",
        "\n",
        "for i in range(10):\n",
        "  b=i+(i+1)\n",
        "  print('current number ',i+1)\n",
        "  print('previous number ',i)\n",
        "  print('sum is ', b)"
      ],
      "metadata": {
        "colab": {
          "base_uri": "https://localhost:8080/"
        },
        "id": "8-crtQ1iAaWt",
        "outputId": "e72faab3-43f2-4398-a0f0-792785dd1750"
      },
      "execution_count": 29,
      "outputs": [
        {
          "output_type": "stream",
          "name": "stdout",
          "text": [
            "current number  1\n",
            "previous number  0\n",
            "sum is  1\n",
            "current number  2\n",
            "previous number  1\n",
            "sum is  3\n",
            "current number  3\n",
            "previous number  2\n",
            "sum is  5\n",
            "current number  4\n",
            "previous number  3\n",
            "sum is  7\n",
            "current number  5\n",
            "previous number  4\n",
            "sum is  9\n",
            "current number  6\n",
            "previous number  5\n",
            "sum is  11\n",
            "current number  7\n",
            "previous number  6\n",
            "sum is  13\n",
            "current number  8\n",
            "previous number  7\n",
            "sum is  15\n",
            "current number  9\n",
            "previous number  8\n",
            "sum is  17\n",
            "current number  10\n",
            "previous number  9\n",
            "sum is  19\n"
          ]
        }
      ]
    },
    {
      "cell_type": "code",
      "source": [
        "#question 5\n",
        "\n",
        "a=[12,3,5,10,22,25,35,3,45]\n",
        "for i in a:\n",
        "  if i%5==0:\n",
        "    print(i)"
      ],
      "metadata": {
        "colab": {
          "base_uri": "https://localhost:8080/"
        },
        "id": "aQbhlBc7--0O",
        "outputId": "1b126922-382f-40e8-a434-22dfe678fc5d"
      },
      "execution_count": 28,
      "outputs": [
        {
          "output_type": "stream",
          "name": "stdout",
          "text": [
            "5\n",
            "10\n",
            "25\n",
            "35\n",
            "45\n"
          ]
        }
      ]
    },
    {
      "cell_type": "code",
      "source": [
        "#question 6\n",
        "\n",
        "prime=int(input('Enter the number'))\n",
        "if prime <=1:\n",
        "  print('invalid')\n",
        "else:\n",
        "    for i in range(2,prime):\n",
        "      if prime % i==0:\n",
        "\n",
        "        print(prime ,'is not prime number')\n",
        "        break\n",
        "    else:\n",
        "      print(prime ,' is prime number')"
      ],
      "metadata": {
        "colab": {
          "base_uri": "https://localhost:8080/"
        },
        "id": "QvlPXoU3EEev",
        "outputId": "f3349051-9621-447b-88b2-501d24a2cc20"
      },
      "execution_count": 59,
      "outputs": [
        {
          "output_type": "stream",
          "name": "stdout",
          "text": [
            "Enter the number3\n",
            "3  is prime number\n"
          ]
        }
      ]
    },
    {
      "cell_type": "code",
      "source": [
        "#question 7\n",
        "\n",
        "a=[10,40,30,70]\n",
        "\n",
        "for i in range(len(a)-1,-1,-1):\n",
        "  print(a[i])\n"
      ],
      "metadata": {
        "colab": {
          "base_uri": "https://localhost:8080/"
        },
        "id": "UUJH3doENu-Y",
        "outputId": "abeba5d5-51b0-46bd-ca01-7ae3bfa5e9da"
      },
      "execution_count": 67,
      "outputs": [
        {
          "output_type": "stream",
          "name": "stdout",
          "text": [
            "70\n",
            "30\n",
            "40\n",
            "10\n"
          ]
        }
      ]
    },
    {
      "cell_type": "code",
      "source": [
        "#8\n",
        "\n",
        "for i in range(5):\n",
        "  for j in range(1,i+1):\n",
        "    print('*',end='')\n",
        "\n",
        "  print()"
      ],
      "metadata": {
        "colab": {
          "base_uri": "https://localhost:8080/"
        },
        "id": "Zaz9BiEDQDJj",
        "outputId": "1cc7184c-247d-40f0-9c33-6b9492393756"
      },
      "execution_count": 75,
      "outputs": [
        {
          "output_type": "stream",
          "name": "stdout",
          "text": [
            "\n",
            "*\n",
            "**\n",
            "***\n",
            "****\n"
          ]
        }
      ]
    },
    {
      "cell_type": "code",
      "source": [
        "#9\n",
        "\n",
        "n=(34,12,7)\n",
        "max(n)"
      ],
      "metadata": {
        "colab": {
          "base_uri": "https://localhost:8080/"
        },
        "id": "9RaF6ODoSOJX",
        "outputId": "4ef4115c-1ec2-4c64-8689-ba42b2a4a77f"
      },
      "execution_count": 1,
      "outputs": [
        {
          "output_type": "execute_result",
          "data": {
            "text/plain": [
              "34"
            ]
          },
          "metadata": {},
          "execution_count": 1
        }
      ]
    },
    {
      "cell_type": "code",
      "source": [
        "#10\n",
        "\n",
        "for i in range(5):\n",
        "  for j in range(1,i+1):\n",
        "    print('*',end='')\n",
        "\n",
        "  print()\n",
        "\n",
        "for i in range(5):\n",
        "  for j in range(i,5-1):\n",
        "    print('*',end='')\n",
        "\n",
        "  print()"
      ],
      "metadata": {
        "colab": {
          "base_uri": "https://localhost:8080/"
        },
        "id": "mj04XtiHlthH",
        "outputId": "02d0eda7-9102-41e6-a675-7a673b699dbc"
      },
      "execution_count": 12,
      "outputs": [
        {
          "output_type": "stream",
          "name": "stdout",
          "text": [
            "\n",
            "*\n",
            "**\n",
            "***\n",
            "****\n",
            "****\n",
            "***\n",
            "**\n",
            "*\n",
            "\n"
          ]
        }
      ]
    },
    {
      "cell_type": "code",
      "source": [
        "\n"
      ],
      "metadata": {
        "id": "ruWZ7itInD-d"
      },
      "execution_count": 10,
      "outputs": []
    }
  ]
}